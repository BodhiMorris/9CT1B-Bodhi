{
 "cells": [
  {
   "cell_type": "code",
   "execution_count": 9,
   "metadata": {},
   "outputs": [
    {
     "name": "stdout",
     "output_type": "stream",
     "text": [
      "rufus\n",
      "14\n",
      "gosford\n",
      "name\n",
      "suburb\n",
      "email\n",
      "name rufus\n",
      "suburb wyong\n",
      "email rufus.john.whelen@education.nsw.gov.au\n",
      "yuuump\n"
     ]
    }
   ],
   "source": [
    "#Student: Complete all activities below. It is pretty much using the code in the above window, but creating a 'student' dictionary instead of 'person'. \n",
    "\n",
    "# TODO: Create a dictionary representing a student (instead of person) with keys for 'name', 'age', and 'suburb'.\n",
    "student = {'name': 'rufus', 'age': 14, 'suburb': 'gosford'}\n",
    "\n",
    "# TODO: Access and print the values of the 'name' and 'age' keys from the student dictionary.\n",
    "\n",
    "print(student['name'])\n",
    "print(student['age'])\n",
    "print(student['suburb'])\n",
    "\n",
    "# TODO: Update the 'suburb' value in the student dictionary to 'Gosford' (unless you live there - then put another suburb).\n",
    "\n",
    "student['suburb'] = 'wyong'\n",
    "\n",
    "# TODO: Add a new key-value pair to the student dictionary for 'email' with a value of 'alice.soerjosoebroto@education.nsw.gov.au'.\n",
    "\n",
    "student['email'] = 'rufus.john.whelen@education.nsw.gov.au'\n",
    "\n",
    "# TODO: Remove the 'age' key and its corresponding value from the student dictionary.\n",
    "\n",
    "del student['age']\n",
    "\n",
    "# TODO: Iterate over the keys in the student dictionary and print each key.\n",
    "\n",
    "for key in student:\n",
    "    print(key)\n",
    "\n",
    "# TODO: Iterate over the key-value pairs (items) in the student dictionary and print each item.\n",
    "\n",
    "for key, value in student.items():\n",
    "    print(key, value)\n",
    "\n",
    "# TODO: Check if the 'email' key exists in the student dictionary and print a message based on its existence.\n",
    "    \n",
    "if 'email' in student:\n",
    "    print('yuuump')\n",
    "else:\n",
    "    print('nuuump')"
   ]
  }
 ],
 "metadata": {
  "kernelspec": {
   "display_name": "Python 3",
   "language": "python",
   "name": "python3"
  },
  "language_info": {
   "codemirror_mode": {
    "name": "ipython",
    "version": 3
   },
   "file_extension": ".py",
   "mimetype": "text/x-python",
   "name": "python",
   "nbconvert_exporter": "python",
   "pygments_lexer": "ipython3",
   "version": "3.11.0"
  },
  "orig_nbformat": 4
 },
 "nbformat": 4,
 "nbformat_minor": 2
}
